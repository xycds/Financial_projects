{
 "cells": [
  {
   "cell_type": "markdown",
   "id": "52349222",
   "metadata": {},
   "source": [
    "# SHARPE RATIO COMPARISON ON SAME ASSET CLASS\n",
    "In this projecct i'm tying to find out the risk of each assets and returns that they are generating and then comparing them through __sharpe ratio__."
   ]
  },
  {
   "cell_type": "markdown",
   "id": "25b54bb3",
   "metadata": {},
   "source": [
    "# import libraries"
   ]
  },
  {
   "cell_type": "code",
   "execution_count": 1,
   "id": "c508e94a",
   "metadata": {},
   "outputs": [],
   "source": [
    "import pandas as pd\n",
    "import yfinance as yf\n",
    "import matplotlib.pyplot as plt\n",
    "import numpy as np\n"
   ]
  },
  {
   "cell_type": "markdown",
   "id": "db4ebf21",
   "metadata": {},
   "source": [
    "# Load tickers data"
   ]
  },
  {
   "cell_type": "code",
   "execution_count": 2,
   "id": "b56e9808",
   "metadata": {},
   "outputs": [
    {
     "name": "stdout",
     "output_type": "stream",
     "text": [
      "[*********************100%***********************]  2 of 2 completed\n"
     ]
    },
    {
     "data": {
      "text/html": [
       "<div>\n",
       "<style scoped>\n",
       "    .dataframe tbody tr th:only-of-type {\n",
       "        vertical-align: middle;\n",
       "    }\n",
       "\n",
       "    .dataframe tbody tr th {\n",
       "        vertical-align: top;\n",
       "    }\n",
       "\n",
       "    .dataframe thead th {\n",
       "        text-align: right;\n",
       "    }\n",
       "</style>\n",
       "<table border=\"1\" class=\"dataframe\">\n",
       "  <thead>\n",
       "    <tr style=\"text-align: right;\">\n",
       "      <th></th>\n",
       "      <th>TATAMOTORS.NS</th>\n",
       "      <th>TVSMOTOR.NS</th>\n",
       "    </tr>\n",
       "    <tr>\n",
       "      <th>Date</th>\n",
       "      <th></th>\n",
       "      <th></th>\n",
       "    </tr>\n",
       "  </thead>\n",
       "  <tbody>\n",
       "    <tr>\n",
       "      <th>2021-01-01</th>\n",
       "      <td>186.500000</td>\n",
       "      <td>487.951782</td>\n",
       "    </tr>\n",
       "    <tr>\n",
       "      <th>2021-01-04</th>\n",
       "      <td>191.300003</td>\n",
       "      <td>492.625000</td>\n",
       "    </tr>\n",
       "    <tr>\n",
       "      <th>2021-01-05</th>\n",
       "      <td>193.199997</td>\n",
       "      <td>488.896393</td>\n",
       "    </tr>\n",
       "    <tr>\n",
       "      <th>2021-01-06</th>\n",
       "      <td>195.399994</td>\n",
       "      <td>485.366608</td>\n",
       "    </tr>\n",
       "    <tr>\n",
       "      <th>2021-01-07</th>\n",
       "      <td>196.750000</td>\n",
       "      <td>496.453033</td>\n",
       "    </tr>\n",
       "    <tr>\n",
       "      <th>...</th>\n",
       "      <td>...</td>\n",
       "      <td>...</td>\n",
       "    </tr>\n",
       "    <tr>\n",
       "      <th>2021-10-25</th>\n",
       "      <td>479.899994</td>\n",
       "      <td>599.500000</td>\n",
       "    </tr>\n",
       "    <tr>\n",
       "      <th>2021-10-26</th>\n",
       "      <td>508.649994</td>\n",
       "      <td>625.900024</td>\n",
       "    </tr>\n",
       "    <tr>\n",
       "      <th>2021-10-27</th>\n",
       "      <td>497.899994</td>\n",
       "      <td>625.849976</td>\n",
       "    </tr>\n",
       "    <tr>\n",
       "      <th>2021-10-28</th>\n",
       "      <td>481.049988</td>\n",
       "      <td>651.950012</td>\n",
       "    </tr>\n",
       "    <tr>\n",
       "      <th>2021-10-29</th>\n",
       "      <td>483.700012</td>\n",
       "      <td>662.549988</td>\n",
       "    </tr>\n",
       "  </tbody>\n",
       "</table>\n",
       "<p>205 rows × 2 columns</p>\n",
       "</div>"
      ],
      "text/plain": [
       "            TATAMOTORS.NS  TVSMOTOR.NS\n",
       "Date                                  \n",
       "2021-01-01     186.500000   487.951782\n",
       "2021-01-04     191.300003   492.625000\n",
       "2021-01-05     193.199997   488.896393\n",
       "2021-01-06     195.399994   485.366608\n",
       "2021-01-07     196.750000   496.453033\n",
       "...                   ...          ...\n",
       "2021-10-25     479.899994   599.500000\n",
       "2021-10-26     508.649994   625.900024\n",
       "2021-10-27     497.899994   625.849976\n",
       "2021-10-28     481.049988   651.950012\n",
       "2021-10-29     483.700012   662.549988\n",
       "\n",
       "[205 rows x 2 columns]"
      ]
     },
     "execution_count": 2,
     "metadata": {},
     "output_type": "execute_result"
    }
   ],
   "source": [
    "#STOCK DATA OF TATAMOTORS AND TVSMOTORS FROM JAN 2021 TILL OCT 2021\n",
    "stock_data = yf.download(['TATAMOTORS.NS', 'TVSMOTOR.NS'], start = '2021-01-01', end = '2021-11-01')\n",
    "#drop null values and choose adjusted close price for further analysis\n",
    "df_stocks = stock_data['Adj Close'].dropna()\n",
    "df_stocks\n"
   ]
  },
  {
   "cell_type": "code",
   "execution_count": 7,
   "id": "0af2271f",
   "metadata": {},
   "outputs": [
    {
     "data": {
      "text/plain": [
       "TATAMOTORS.NS    float64\n",
       "TVSMOTOR.NS      float64\n",
       "dtype: object"
      ]
     },
     "execution_count": 7,
     "metadata": {},
     "output_type": "execute_result"
    },
    {
     "data": {
      "image/png": "[encoded data removed]",
      "text/plain": [
       "<Figure size 432x288 with 2 Axes>"
      ]
     },
     "metadata": {
      "needs_background": "light"
     },
     "output_type": "display_data"
    }
   ],
   "source": [
    "#Show structure of data\n",
    "df_stocks.hist()\n",
    "#describe about data\n",
    "df_stocks.describe()\n",
    "#data structure of data\n",
    "df_stocks.dtypes"
   ]
  },
  {
   "cell_type": "code",
   "execution_count": 8,
   "id": "9a915a0a",
   "metadata": {},
   "outputs": [
    {
     "data": {
      "text/plain": [
       "array([<AxesSubplot:xlabel='Date'>, <AxesSubplot:xlabel='Date'>],\n",
       "      dtype=object)"
      ]
     },
     "execution_count": 8,
     "metadata": {},
     "output_type": "execute_result"
    },
    {
     "data": {
      "image/png": "[encoded data removed]",
      "text/plain": [
       "<Figure size 432x288 with 2 Axes>"
      ]
     },
     "metadata": {
      "needs_background": "light"
     },
     "output_type": "display_data"
    }
   ],
   "source": [
    "# visualize the stocks data\n",
    "df_stocks.plot(title = 'Adjusted closing chart', subplots= True)"
   ]
  },
  {
   "cell_type": "code",
   "execution_count": 9,
   "id": "b8503f8c",
   "metadata": {},
   "outputs": [
    {
     "data": {
      "text/html": [
       "<div>\n",
       "<style scoped>\n",
       "    .dataframe tbody tr th:only-of-type {\n",
       "        vertical-align: middle;\n",
       "    }\n",
       "\n",
       "    .dataframe tbody tr th {\n",
       "        vertical-align: top;\n",
       "    }\n",
       "\n",
       "    .dataframe thead th {\n",
       "        text-align: right;\n",
       "    }\n",
       "</style>\n",
       "<table border=\"1\" class=\"dataframe\">\n",
       "  <thead>\n",
       "    <tr style=\"text-align: right;\">\n",
       "      <th></th>\n",
       "      <th>TATAMOTORS.NS</th>\n",
       "      <th>TVSMOTOR.NS</th>\n",
       "    </tr>\n",
       "  </thead>\n",
       "  <tbody>\n",
       "    <tr>\n",
       "      <th>count</th>\n",
       "      <td>204.000000</td>\n",
       "      <td>204.000000</td>\n",
       "    </tr>\n",
       "    <tr>\n",
       "      <th>mean</th>\n",
       "      <td>0.005225</td>\n",
       "      <td>0.001724</td>\n",
       "    </tr>\n",
       "    <tr>\n",
       "      <th>std</th>\n",
       "      <td>0.033631</td>\n",
       "      <td>0.021452</td>\n",
       "    </tr>\n",
       "    <tr>\n",
       "      <th>min</th>\n",
       "      <td>-0.099466</td>\n",
       "      <td>-0.051232</td>\n",
       "    </tr>\n",
       "    <tr>\n",
       "      <th>25%</th>\n",
       "      <td>-0.011892</td>\n",
       "      <td>-0.009299</td>\n",
       "    </tr>\n",
       "    <tr>\n",
       "      <th>50%</th>\n",
       "      <td>0.003186</td>\n",
       "      <td>-0.002002</td>\n",
       "    </tr>\n",
       "    <tr>\n",
       "      <th>75%</th>\n",
       "      <td>0.016472</td>\n",
       "      <td>0.011708</td>\n",
       "    </tr>\n",
       "    <tr>\n",
       "      <th>max</th>\n",
       "      <td>0.204467</td>\n",
       "      <td>0.140385</td>\n",
       "    </tr>\n",
       "  </tbody>\n",
       "</table>\n",
       "</div>"
      ],
      "text/plain": [
       "       TATAMOTORS.NS  TVSMOTOR.NS\n",
       "count     204.000000   204.000000\n",
       "mean        0.005225     0.001724\n",
       "std         0.033631     0.021452\n",
       "min        -0.099466    -0.051232\n",
       "25%        -0.011892    -0.009299\n",
       "50%         0.003186    -0.002002\n",
       "75%         0.016472     0.011708\n",
       "max         0.204467     0.140385"
      ]
     },
     "execution_count": 9,
     "metadata": {},
     "output_type": "execute_result"
    }
   ],
   "source": [
    "#Returns of both stocks \n",
    "stock_returns = df_stocks.pct_change().dropna()\n",
    "stock_returns.describe()\n"
   ]
  },
  {
   "cell_type": "code",
   "execution_count": 17,
   "id": "8cc545de",
   "metadata": {},
   "outputs": [
    {
     "name": "stdout",
     "output_type": "stream",
     "text": [
      "[*********************100%***********************]  1 of 1 completed\n"
     ]
    },
    {
     "data": {
      "text/plain": [
       "Date\n",
       "2021-01-01    14018.500000\n",
       "2021-01-04    14132.900391\n",
       "2021-01-05    14199.500000\n",
       "2021-01-06    14146.250000\n",
       "2021-01-07    14137.349609\n",
       "Name: Adj Close, dtype: float64"
      ]
     },
     "execution_count": 17,
     "metadata": {},
     "output_type": "execute_result"
    }
   ],
   "source": [
    "#NIFTY50 DATA FROM JAN 2021 TILL OCT 2020\n",
    "Benchmark_data = yf.download('^NSEI', start = '2021-01-01', end= '2021-11-01')\n",
    "df_benchmrk= Benchmark_data['Adj Close'].dropna()\n",
    "df_benchmrk.head(5)\n",
    "    "
   ]
  },
  {
   "cell_type": "code",
   "execution_count": 11,
   "id": "56aec476",
   "metadata": {},
   "outputs": [
    {
     "data": {
      "text/plain": [
       "array([<AxesSubplot:xlabel='Date'>], dtype=object)"
      ]
     },
     "execution_count": 11,
     "metadata": {},
     "output_type": "execute_result"
    },
    {
     "data": {
      "image/png": "[encoded data removed]",
      "text/plain": [
       "<Figure size 432x288 with 1 Axes>"
      ]
     },
     "metadata": {
      "needs_background": "light"
     },
     "output_type": "display_data"
    }
   ],
   "source": [
    "# visualize the stocks data\n",
    "df_benchmrk.plot(title = 'Adjusted closing chart', subplots= True)"
   ]
  },
  {
   "cell_type": "code",
   "execution_count": 19,
   "id": "da95017a",
   "metadata": {},
   "outputs": [
    {
     "data": {
      "text/html": [
       "<div>\n",
       "<style scoped>\n",
       "    .dataframe tbody tr th:only-of-type {\n",
       "        vertical-align: middle;\n",
       "    }\n",
       "\n",
       "    .dataframe tbody tr th {\n",
       "        vertical-align: top;\n",
       "    }\n",
       "\n",
       "    .dataframe thead th {\n",
       "        text-align: right;\n",
       "    }\n",
       "</style>\n",
       "<table border=\"1\" class=\"dataframe\">\n",
       "  <thead>\n",
       "    <tr style=\"text-align: right;\">\n",
       "      <th></th>\n",
       "      <th>TATAMOTORS.NS</th>\n",
       "      <th>TVSMOTOR.NS</th>\n",
       "    </tr>\n",
       "  </thead>\n",
       "  <tbody>\n",
       "    <tr>\n",
       "      <th>count</th>\n",
       "      <td>204.000000</td>\n",
       "      <td>204.000000</td>\n",
       "    </tr>\n",
       "    <tr>\n",
       "      <th>mean</th>\n",
       "      <td>0.005225</td>\n",
       "      <td>0.001724</td>\n",
       "    </tr>\n",
       "    <tr>\n",
       "      <th>std</th>\n",
       "      <td>0.033631</td>\n",
       "      <td>0.021452</td>\n",
       "    </tr>\n",
       "    <tr>\n",
       "      <th>min</th>\n",
       "      <td>-0.099466</td>\n",
       "      <td>-0.051232</td>\n",
       "    </tr>\n",
       "    <tr>\n",
       "      <th>25%</th>\n",
       "      <td>-0.011892</td>\n",
       "      <td>-0.009299</td>\n",
       "    </tr>\n",
       "    <tr>\n",
       "      <th>50%</th>\n",
       "      <td>0.003186</td>\n",
       "      <td>-0.002002</td>\n",
       "    </tr>\n",
       "    <tr>\n",
       "      <th>75%</th>\n",
       "      <td>0.016472</td>\n",
       "      <td>0.011708</td>\n",
       "    </tr>\n",
       "    <tr>\n",
       "      <th>max</th>\n",
       "      <td>0.204467</td>\n",
       "      <td>0.140385</td>\n",
       "    </tr>\n",
       "  </tbody>\n",
       "</table>\n",
       "</div>"
      ],
      "text/plain": [
       "       TATAMOTORS.NS  TVSMOTOR.NS\n",
       "count     204.000000   204.000000\n",
       "mean        0.005225     0.001724\n",
       "std         0.033631     0.021452\n",
       "min        -0.099466    -0.051232\n",
       "25%        -0.011892    -0.009299\n",
       "50%         0.003186    -0.002002\n",
       "75%         0.016472     0.011708\n",
       "max         0.204467     0.140385"
      ]
     },
     "execution_count": 19,
     "metadata": {},
     "output_type": "execute_result"
    }
   ],
   "source": [
    "#Returns of both stocks \n",
    "stock_returns = df_stocks.pct_change().dropna()\n",
    "stock_returns.describe()\n"
   ]
  },
  {
   "cell_type": "code",
   "execution_count": 20,
   "id": "c19cb7a7",
   "metadata": {},
   "outputs": [
    {
     "data": {
      "text/plain": [
       "count    204.000000\n",
       "mean       0.001183\n",
       "std        0.009770\n",
       "min       -0.037636\n",
       "25%       -0.003860\n",
       "50%        0.001384\n",
       "75%        0.007444\n",
       "max        0.047424\n",
       "Name: Adj Close, dtype: float64"
      ]
     },
     "execution_count": 20,
     "metadata": {},
     "output_type": "execute_result"
    }
   ],
   "source": [
    "#benchmark returns\n",
    "benchmrk_returns = df_benchmrk.pct_change().dropna()\n",
    "benchmrk_returns.describe()\n"
   ]
  },
  {
   "cell_type": "code",
   "execution_count": 22,
   "id": "8ad1198a",
   "metadata": {},
   "outputs": [
    {
     "data": {
      "image/png": "[encoded data removed]",
      "text/plain": [
       "<Figure size 432x288 with 1 Axes>"
      ]
     },
     "metadata": {
      "needs_background": "light"
     },
     "output_type": "display_data"
    }
   ],
   "source": [
    "# calculate the difference in daily returns\n",
    "excess_returns = stock_returns.sub(benchmrk_returns, axis = 0)\n",
    "\n",
    "# plot the excess_returns\n",
    "excess_returns.plot();"
   ]
  },
  {
   "cell_type": "code",
   "execution_count": 23,
   "id": "619b490f",
   "metadata": {},
   "outputs": [
    {
     "data": {
      "text/html": [
       "<div>\n",
       "<style scoped>\n",
       "    .dataframe tbody tr th:only-of-type {\n",
       "        vertical-align: middle;\n",
       "    }\n",
       "\n",
       "    .dataframe tbody tr th {\n",
       "        vertical-align: top;\n",
       "    }\n",
       "\n",
       "    .dataframe thead th {\n",
       "        text-align: right;\n",
       "    }\n",
       "</style>\n",
       "<table border=\"1\" class=\"dataframe\">\n",
       "  <thead>\n",
       "    <tr style=\"text-align: right;\">\n",
       "      <th></th>\n",
       "      <th>TATAMOTORS.NS</th>\n",
       "      <th>TVSMOTOR.NS</th>\n",
       "    </tr>\n",
       "  </thead>\n",
       "  <tbody>\n",
       "    <tr>\n",
       "      <th>count</th>\n",
       "      <td>204.000000</td>\n",
       "      <td>204.000000</td>\n",
       "    </tr>\n",
       "    <tr>\n",
       "      <th>mean</th>\n",
       "      <td>0.004042</td>\n",
       "      <td>0.000541</td>\n",
       "    </tr>\n",
       "    <tr>\n",
       "      <th>std</th>\n",
       "      <td>0.029811</td>\n",
       "      <td>0.020313</td>\n",
       "    </tr>\n",
       "    <tr>\n",
       "      <th>min</th>\n",
       "      <td>-0.083352</td>\n",
       "      <td>-0.053505</td>\n",
       "    </tr>\n",
       "    <tr>\n",
       "      <th>25%</th>\n",
       "      <td>-0.012745</td>\n",
       "      <td>-0.012543</td>\n",
       "    </tr>\n",
       "    <tr>\n",
       "      <th>50%</th>\n",
       "      <td>0.001107</td>\n",
       "      <td>-0.001578</td>\n",
       "    </tr>\n",
       "    <tr>\n",
       "      <th>75%</th>\n",
       "      <td>0.014497</td>\n",
       "      <td>0.008075</td>\n",
       "    </tr>\n",
       "    <tr>\n",
       "      <th>max</th>\n",
       "      <td>0.195030</td>\n",
       "      <td>0.125951</td>\n",
       "    </tr>\n",
       "  </tbody>\n",
       "</table>\n",
       "</div>"
      ],
      "text/plain": [
       "       TATAMOTORS.NS  TVSMOTOR.NS\n",
       "count     204.000000   204.000000\n",
       "mean        0.004042     0.000541\n",
       "std         0.029811     0.020313\n",
       "min        -0.083352    -0.053505\n",
       "25%        -0.012745    -0.012543\n",
       "50%         0.001107    -0.001578\n",
       "75%         0.014497     0.008075\n",
       "max         0.195030     0.125951"
      ]
     },
     "execution_count": 23,
     "metadata": {},
     "output_type": "execute_result"
    }
   ],
   "source": [
    "# summarize the excess_returns\n",
    "excess_returns.describe()"
   ]
  },
  {
   "cell_type": "code",
   "execution_count": 24,
   "id": "5d36061f",
   "metadata": {},
   "outputs": [
    {
     "data": {
      "text/plain": [
       "TATAMOTORS.NS    0.004042\n",
       "TVSMOTOR.NS      0.000541\n",
       "dtype: float64"
      ]
     },
     "execution_count": 24,
     "metadata": {},
     "output_type": "execute_result"
    }
   ],
   "source": [
    "# calculate the mean of excess_returns \n",
    "avg_excess_return = excess_returns.mean()\n",
    "avg_excess_return\n"
   ]
  },
  {
   "cell_type": "code",
   "execution_count": 25,
   "id": "b1df10de",
   "metadata": {},
   "outputs": [],
   "source": [
    "# calculate the standard deviations\n",
    "sd_excess_return = excess_returns.std()\n"
   ]
  },
  {
   "cell_type": "code",
   "execution_count": 26,
   "id": "3ddf360b",
   "metadata": {},
   "outputs": [
    {
     "data": {
      "text/plain": [
       "array([<AxesSubplot:>], dtype=object)"
      ]
     },
     "execution_count": 26,
     "metadata": {},
     "output_type": "execute_result"
    },
    {
     "data": {
      "image/png": "[encoded data removed]",
      "text/plain": [
       "<Figure size 432x288 with 1 Axes>"
      ]
     },
     "metadata": {
      "needs_background": "light"
     },
     "output_type": "display_data"
    }
   ],
   "source": [
    "# plot the standard deviations\n",
    "sd_excess_return.plot(title= 'Standard Deviation of the Return Difference', subplots = True)\n"
   ]
  },
  {
   "cell_type": "code",
   "execution_count": 28,
   "id": "9177c7e4",
   "metadata": {},
   "outputs": [],
   "source": [
    "# calculate the daily sharpe ratio\n",
    "daily_sharpe_ratio = avg_excess_return.div(sd_excess_return, axis = 0)\n",
    "# annualize the sharpe ratio\n",
    "annual_factor = np.sqrt(205)\n",
    "annual_sharpe_ratio = daily_sharpe_ratio.mul(annual_factor, axis = 0)"
   ]
  },
  {
   "cell_type": "code",
   "execution_count": 30,
   "id": "ab6f86ee",
   "metadata": {},
   "outputs": [
    {
     "data": {
      "text/plain": [
       "TATAMOTORS.NS    1.941163\n",
       "TVSMOTOR.NS      0.381017\n",
       "dtype: float64"
      ]
     },
     "execution_count": 30,
     "metadata": {},
     "output_type": "execute_result"
    },
    {
     "data": {
      "image/png": "[encoded data removed]",
      "text/plain": [
       "<Figure size 432x288 with 1 Axes>"
      ]
     },
     "metadata": {
      "needs_background": "light"
     },
     "output_type": "display_data"
    }
   ],
   "source": [
    "# plot the annualized sharpe ratio\n",
    "annual_sharpe_ratio.plot.bar(title = 'Annualised Sharpe Ratio: Stocks Vs Nifty 50');\n",
    "annual_sharpe_ratio"
   ]
  },
  {
   "cell_type": "markdown",
   "id": "c7a8f248",
   "metadata": {},
   "source": [
    "# CONCLUSION -\n",
    "'''We have concluded that sharpe ratio of TATAMOTORS is six times more than of the TVSMOTORS This means that an investment in TATAMOTORS returned six times as much compared to the NIFTY 50 for each unit of risk an investor would have assumed. In other words, in risk-adjusted terms, the investment in TATAMOTORS would have been more attractive. When faced with investment alternatives that offer both different returns and risks, the Sharpe Ratio helps to make a decision by adjusting the returns by the differences in risk and allows an investor to compare investment opportunities on equal terms, that is, on an 'apples-to-apples' basis.'''\n"
   ]
  }
 ],
 "metadata": {
  "kernelspec": {
   "display_name": "Python 3",
   "language": "python",
   "name": "python3"
  },
  "language_info": {
   "codemirror_mode": {
    "name": "ipython",
    "version": 3
   },
   "file_extension": ".py",
   "mimetype": "text/x-python",
   "name": "python",
   "nbconvert_exporter": "python",
   "pygments_lexer": "ipython3",
   "version": "3.8.8"
  }
 },
 "nbformat": 4,
 "nbformat_minor": 5
}
