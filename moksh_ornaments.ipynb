{
 "cells": [
  {
   "cell_type": "markdown",
   "id": "10a3d276",
   "metadata": {},
   "source": [
    "# Data Analysis of __'Moksh Ornaments'__ stock price \n",
    "Things i will be looking for-\n",
    "1. Is there any correlation between price and volume.\n",
    "2. How Google trends can help me to find pattern in search keywords related to stock and price. "
   ]
  },
  {
   "cell_type": "markdown",
   "id": "ae3b7d9c",
   "metadata": {},
   "source": [
    "# 1. Import libraries"
   ]
  },
  {
   "cell_type": "code",
   "execution_count": 108,
   "id": "673b5778",
   "metadata": {},
   "outputs": [],
   "source": [
    "import pandas as pd\n",
    "import numpy as np\n",
    "import yfinance as yf\n",
    "import matplotlib.pyplot as plt\n"
   ]
  },
  {
   "cell_type": "code",
   "execution_count": 109,
   "id": "a107fe9a",
   "metadata": {
    "scrolled": true
   },
   "outputs": [
    {
     "name": "stdout",
     "output_type": "stream",
     "text": [
      "[*********************100%***********************]  1 of 1 completed\n"
     ]
    },
    {
     "data": {
      "text/html": [
       "<div>\n",
       "<style scoped>\n",
       "    .dataframe tbody tr th:only-of-type {\n",
       "        vertical-align: middle;\n",
       "    }\n",
       "\n",
       "    .dataframe tbody tr th {\n",
       "        vertical-align: top;\n",
       "    }\n",
       "\n",
       "    .dataframe thead th {\n",
       "        text-align: right;\n",
       "    }\n",
       "</style>\n",
       "<table border=\"1\" class=\"dataframe\">\n",
       "  <thead>\n",
       "    <tr style=\"text-align: right;\">\n",
       "      <th></th>\n",
       "      <th>Open</th>\n",
       "      <th>High</th>\n",
       "      <th>Low</th>\n",
       "      <th>Close</th>\n",
       "      <th>Adj Close</th>\n",
       "      <th>Volume</th>\n",
       "    </tr>\n",
       "    <tr>\n",
       "      <th>Date</th>\n",
       "      <th></th>\n",
       "      <th></th>\n",
       "      <th></th>\n",
       "      <th></th>\n",
       "      <th></th>\n",
       "      <th></th>\n",
       "    </tr>\n",
       "  </thead>\n",
       "  <tbody>\n",
       "    <tr>\n",
       "      <th>2021-10-01</th>\n",
       "      <td>40.250000</td>\n",
       "      <td>40.950001</td>\n",
       "      <td>39.750000</td>\n",
       "      <td>40.250000</td>\n",
       "      <td>40.134838</td>\n",
       "      <td>492995</td>\n",
       "    </tr>\n",
       "    <tr>\n",
       "      <th>2021-10-04</th>\n",
       "      <td>40.900002</td>\n",
       "      <td>41.799999</td>\n",
       "      <td>40.299999</td>\n",
       "      <td>40.799999</td>\n",
       "      <td>40.683262</td>\n",
       "      <td>820981</td>\n",
       "    </tr>\n",
       "    <tr>\n",
       "      <th>2021-10-05</th>\n",
       "      <td>41.150002</td>\n",
       "      <td>41.150002</td>\n",
       "      <td>40.700001</td>\n",
       "      <td>40.750000</td>\n",
       "      <td>40.633408</td>\n",
       "      <td>603983</td>\n",
       "    </tr>\n",
       "    <tr>\n",
       "      <th>2021-10-06</th>\n",
       "      <td>41.000000</td>\n",
       "      <td>41.400002</td>\n",
       "      <td>40.450001</td>\n",
       "      <td>41.250000</td>\n",
       "      <td>41.131977</td>\n",
       "      <td>957183</td>\n",
       "    </tr>\n",
       "    <tr>\n",
       "      <th>2021-10-07</th>\n",
       "      <td>42.400002</td>\n",
       "      <td>42.400002</td>\n",
       "      <td>41.200001</td>\n",
       "      <td>41.799999</td>\n",
       "      <td>41.680401</td>\n",
       "      <td>420128</td>\n",
       "    </tr>\n",
       "    <tr>\n",
       "      <th>...</th>\n",
       "      <td>...</td>\n",
       "      <td>...</td>\n",
       "      <td>...</td>\n",
       "      <td>...</td>\n",
       "      <td>...</td>\n",
       "      <td>...</td>\n",
       "    </tr>\n",
       "    <tr>\n",
       "      <th>2022-02-15</th>\n",
       "      <td>22.000000</td>\n",
       "      <td>22.700001</td>\n",
       "      <td>22.000000</td>\n",
       "      <td>22.000000</td>\n",
       "      <td>22.000000</td>\n",
       "      <td>1166135</td>\n",
       "    </tr>\n",
       "    <tr>\n",
       "      <th>2022-02-16</th>\n",
       "      <td>20.900000</td>\n",
       "      <td>22.000000</td>\n",
       "      <td>20.900000</td>\n",
       "      <td>21.400000</td>\n",
       "      <td>21.400000</td>\n",
       "      <td>1217315</td>\n",
       "    </tr>\n",
       "    <tr>\n",
       "      <th>2022-02-17</th>\n",
       "      <td>21.850000</td>\n",
       "      <td>22.450001</td>\n",
       "      <td>20.350000</td>\n",
       "      <td>22.450001</td>\n",
       "      <td>22.450001</td>\n",
       "      <td>2063200</td>\n",
       "    </tr>\n",
       "    <tr>\n",
       "      <th>2022-02-18</th>\n",
       "      <td>23.000000</td>\n",
       "      <td>23.549999</td>\n",
       "      <td>22.200001</td>\n",
       "      <td>23.500000</td>\n",
       "      <td>23.500000</td>\n",
       "      <td>1748585</td>\n",
       "    </tr>\n",
       "    <tr>\n",
       "      <th>2022-02-21</th>\n",
       "      <td>23.049999</td>\n",
       "      <td>24.150000</td>\n",
       "      <td>22.350000</td>\n",
       "      <td>22.350000</td>\n",
       "      <td>22.350000</td>\n",
       "      <td>538627</td>\n",
       "    </tr>\n",
       "  </tbody>\n",
       "</table>\n",
       "<p>98 rows × 6 columns</p>\n",
       "</div>"
      ],
      "text/plain": [
       "                 Open       High        Low      Close  Adj Close   Volume\n",
       "Date                                                                      \n",
       "2021-10-01  40.250000  40.950001  39.750000  40.250000  40.134838   492995\n",
       "2021-10-04  40.900002  41.799999  40.299999  40.799999  40.683262   820981\n",
       "2021-10-05  41.150002  41.150002  40.700001  40.750000  40.633408   603983\n",
       "2021-10-06  41.000000  41.400002  40.450001  41.250000  41.131977   957183\n",
       "2021-10-07  42.400002  42.400002  41.200001  41.799999  41.680401   420128\n",
       "...               ...        ...        ...        ...        ...      ...\n",
       "2022-02-15  22.000000  22.700001  22.000000  22.000000  22.000000  1166135\n",
       "2022-02-16  20.900000  22.000000  20.900000  21.400000  21.400000  1217315\n",
       "2022-02-17  21.850000  22.450001  20.350000  22.450001  22.450001  2063200\n",
       "2022-02-18  23.000000  23.549999  22.200001  23.500000  23.500000  1748585\n",
       "2022-02-21  23.049999  24.150000  22.350000  22.350000  22.350000   538627\n",
       "\n",
       "[98 rows x 6 columns]"
      ]
     },
     "execution_count": 109,
     "metadata": {},
     "output_type": "execute_result"
    }
   ],
   "source": [
    "#importing data\n",
    "day_data=yf.download('moksh.ns', start= '2021-10-01', end ='2022-02-22', interval='1d')\n",
    "day_data"
   ]
  },
  {
   "cell_type": "markdown",
   "id": "fd8e9da4",
   "metadata": {},
   "source": [
    "# 2. Set aside Adjusted close and volume data."
   ]
  },
  {
   "cell_type": "code",
   "execution_count": 110,
   "id": "22dc3cca",
   "metadata": {},
   "outputs": [
    {
     "data": {
      "text/html": [
       "<div>\n",
       "<style scoped>\n",
       "    .dataframe tbody tr th:only-of-type {\n",
       "        vertical-align: middle;\n",
       "    }\n",
       "\n",
       "    .dataframe tbody tr th {\n",
       "        vertical-align: top;\n",
       "    }\n",
       "\n",
       "    .dataframe thead th {\n",
       "        text-align: right;\n",
       "    }\n",
       "</style>\n",
       "<table border=\"1\" class=\"dataframe\">\n",
       "  <thead>\n",
       "    <tr style=\"text-align: right;\">\n",
       "      <th></th>\n",
       "      <th>Adj Close</th>\n",
       "      <th>Volume</th>\n",
       "    </tr>\n",
       "    <tr>\n",
       "      <th>Date</th>\n",
       "      <th></th>\n",
       "      <th></th>\n",
       "    </tr>\n",
       "  </thead>\n",
       "  <tbody>\n",
       "    <tr>\n",
       "      <th>2021-10-01</th>\n",
       "      <td>40.134838</td>\n",
       "      <td>492995</td>\n",
       "    </tr>\n",
       "    <tr>\n",
       "      <th>2021-10-04</th>\n",
       "      <td>40.683262</td>\n",
       "      <td>820981</td>\n",
       "    </tr>\n",
       "    <tr>\n",
       "      <th>2021-10-05</th>\n",
       "      <td>40.633408</td>\n",
       "      <td>603983</td>\n",
       "    </tr>\n",
       "    <tr>\n",
       "      <th>2021-10-06</th>\n",
       "      <td>41.131977</td>\n",
       "      <td>957183</td>\n",
       "    </tr>\n",
       "    <tr>\n",
       "      <th>2021-10-07</th>\n",
       "      <td>41.680401</td>\n",
       "      <td>420128</td>\n",
       "    </tr>\n",
       "    <tr>\n",
       "      <th>...</th>\n",
       "      <td>...</td>\n",
       "      <td>...</td>\n",
       "    </tr>\n",
       "    <tr>\n",
       "      <th>2022-02-15</th>\n",
       "      <td>22.000000</td>\n",
       "      <td>1166135</td>\n",
       "    </tr>\n",
       "    <tr>\n",
       "      <th>2022-02-16</th>\n",
       "      <td>21.400000</td>\n",
       "      <td>1217315</td>\n",
       "    </tr>\n",
       "    <tr>\n",
       "      <th>2022-02-17</th>\n",
       "      <td>22.450001</td>\n",
       "      <td>2063200</td>\n",
       "    </tr>\n",
       "    <tr>\n",
       "      <th>2022-02-18</th>\n",
       "      <td>23.500000</td>\n",
       "      <td>1748585</td>\n",
       "    </tr>\n",
       "    <tr>\n",
       "      <th>2022-02-21</th>\n",
       "      <td>22.350000</td>\n",
       "      <td>538627</td>\n",
       "    </tr>\n",
       "  </tbody>\n",
       "</table>\n",
       "<p>98 rows × 2 columns</p>\n",
       "</div>"
      ],
      "text/plain": [
       "            Adj Close   Volume\n",
       "Date                          \n",
       "2021-10-01  40.134838   492995\n",
       "2021-10-04  40.683262   820981\n",
       "2021-10-05  40.633408   603983\n",
       "2021-10-06  41.131977   957183\n",
       "2021-10-07  41.680401   420128\n",
       "...               ...      ...\n",
       "2022-02-15  22.000000  1166135\n",
       "2022-02-16  21.400000  1217315\n",
       "2022-02-17  22.450001  2063200\n",
       "2022-02-18  23.500000  1748585\n",
       "2022-02-21  22.350000   538627\n",
       "\n",
       "[98 rows x 2 columns]"
      ]
     },
     "execution_count": 110,
     "metadata": {},
     "output_type": "execute_result"
    }
   ],
   "source": [
    "# volume = df['Volume']\n",
    "# Adjclose = df['Adj Close']\n",
    "day_data = day_data[['Adj Close', 'Volume']]\n",
    "day_data"
   ]
  },
  {
   "cell_type": "markdown",
   "id": "ae7cd955",
   "metadata": {},
   "source": [
    "# 3. Data cleaning and sorting"
   ]
  },
  {
   "cell_type": "code",
   "execution_count": 111,
   "id": "344708bb",
   "metadata": {},
   "outputs": [
    {
     "data": {
      "text/plain": [
       "Adj Close    0\n",
       "Volume       0\n",
       "dtype: int64"
      ]
     },
     "execution_count": 111,
     "metadata": {},
     "output_type": "execute_result"
    }
   ],
   "source": [
    "#checking for nulls\n",
    "day_data.isnull().sum()"
   ]
  },
  {
   "cell_type": "code",
   "execution_count": 112,
   "id": "b7223b2c",
   "metadata": {},
   "outputs": [
    {
     "data": {
      "text/plain": [
       "Adj Close    float64\n",
       "Volume         int64\n",
       "dtype: object"
      ]
     },
     "execution_count": 112,
     "metadata": {},
     "output_type": "execute_result"
    }
   ],
   "source": [
    "# checking for datatypes\n",
    "day_data.dtypes"
   ]
  },
  {
   "cell_type": "code",
   "execution_count": 113,
   "id": "835e9d6f",
   "metadata": {},
   "outputs": [
    {
     "data": {
      "text/plain": [
       "Adj Close    float64\n",
       "Volume       float64\n",
       "dtype: object"
      ]
     },
     "execution_count": 113,
     "metadata": {},
     "output_type": "execute_result"
    }
   ],
   "source": [
    "#Converting same dtypes for both columns\n",
    "day_data =day_data.astype({'Volume':'float'})\n",
    "day_data.dtypes"
   ]
  },
  {
   "cell_type": "markdown",
   "id": "d13d027a",
   "metadata": {},
   "source": [
    "# 4. Check for relations in both price and volume"
   ]
  },
  {
   "cell_type": "code",
   "execution_count": 114,
   "id": "7f733e18",
   "metadata": {},
   "outputs": [
    {
     "data": {
      "text/plain": [
       "<function matplotlib.pyplot.show(close=None, block=None)>"
      ]
     },
     "execution_count": 114,
     "metadata": {},
     "output_type": "execute_result"
    },
    {
     "data": {
      "image/png": "[encoded data removed]",
      "text/plain": [
       "<Figure size 432x288 with 1 Axes>"
      ]
     },
     "metadata": {
      "needs_background": "light"
     },
     "output_type": "display_data"
    }
   ],
   "source": [
    "# plotting scatter plot between price and volume\n",
    "x= day_data['Adj Close']\n",
    "y= day_data['Volume']\n",
    "plt.plot(x, y, 'o', color = 'Red', label = 'Daily data')\n",
    "plt.title('VOLUME VS CLOSING PRICE')\n",
    "plt.xlabel('Adj Close')\n",
    "plt.ylabel('Volume')\n",
    "plt.legend()\n",
    "plt.show"
   ]
  },
  {
   "cell_type": "code",
   "execution_count": 115,
   "id": "cdf9f667",
   "metadata": {},
   "outputs": [
    {
     "data": {
      "text/html": [
       "<div>\n",
       "<style scoped>\n",
       "    .dataframe tbody tr th:only-of-type {\n",
       "        vertical-align: middle;\n",
       "    }\n",
       "\n",
       "    .dataframe tbody tr th {\n",
       "        vertical-align: top;\n",
       "    }\n",
       "\n",
       "    .dataframe thead th {\n",
       "        text-align: right;\n",
       "    }\n",
       "</style>\n",
       "<table border=\"1\" class=\"dataframe\">\n",
       "  <thead>\n",
       "    <tr style=\"text-align: right;\">\n",
       "      <th></th>\n",
       "      <th>Adj Close</th>\n",
       "      <th>Volume</th>\n",
       "    </tr>\n",
       "  </thead>\n",
       "  <tbody>\n",
       "    <tr>\n",
       "      <th>Adj Close</th>\n",
       "      <td>1.000000</td>\n",
       "      <td>-0.018004</td>\n",
       "    </tr>\n",
       "    <tr>\n",
       "      <th>Volume</th>\n",
       "      <td>-0.018004</td>\n",
       "      <td>1.000000</td>\n",
       "    </tr>\n",
       "  </tbody>\n",
       "</table>\n",
       "</div>"
      ],
      "text/plain": [
       "           Adj Close    Volume\n",
       "Adj Close   1.000000 -0.018004\n",
       "Volume     -0.018004  1.000000"
      ]
     },
     "execution_count": 115,
     "metadata": {},
     "output_type": "execute_result"
    }
   ],
   "source": [
    "#check for correlation between price and volume\n",
    "day_data.corr()"
   ]
  },
  {
   "cell_type": "markdown",
   "id": "fc7ccf28",
   "metadata": {},
   "source": [
    "\n",
    "The theory is that when price and volume move together, the stock is \"acting\" correctly. Therefore, the higher the correlation, the better acting the stock is. If the correlation is strongly negative, we may see a constructive short forming. In this scenario we can see there isnt a strong correlation between price and volume so we cant say confidently that if price increasing volume will also increase and if it isnt it will be a false move."
   ]
  },
  {
   "cell_type": "markdown",
   "id": "1114b993",
   "metadata": {},
   "source": [
    "# 5.Using pytrends to see keyword trend of this stock\n",
    "pytrends in an API which helps to get google trends data from google about any particular or a group or keywords.\n",
    "here we will try to find out the popularity of the keyword during the same time interval."
   ]
  },
  {
   "cell_type": "code",
   "execution_count": 116,
   "id": "8ff6a5d4",
   "metadata": {},
   "outputs": [],
   "source": [
    "from pytrends.request import TrendReq\n",
    "pytrends = TrendReq(hl= 'en-US', tz=330)\n",
    "kw_list=['Moksh ornaments']"
   ]
  },
  {
   "cell_type": "code",
   "execution_count": 117,
   "id": "a5da2b25",
   "metadata": {},
   "outputs": [],
   "source": [
    "pytrends.build_payload(kw_list, cat=0, timeframe= '2021-10-01 2022-02-22', geo='', gprop='')"
   ]
  },
  {
   "cell_type": "code",
   "execution_count": 118,
   "id": "d59bd6f4",
   "metadata": {},
   "outputs": [],
   "source": [
    "trends = pytrends.interest_over_time()\n",
    "related_queries = pytrends.related_queries()"
   ]
  },
  {
   "cell_type": "code",
   "execution_count": 119,
   "id": "fd3c79db",
   "metadata": {},
   "outputs": [],
   "source": [
    "trends.head()\n",
    "trends =trends.drop(columns=['isPartial'])\n",
    "# # trends.isnull().sum()"
   ]
  },
  {
   "cell_type": "code",
   "execution_count": 120,
   "id": "91d2beb9",
   "metadata": {},
   "outputs": [
    {
     "data": {
      "text/plain": [
       "array([<AxesSubplot:xlabel='date'>], dtype=object)"
      ]
     },
     "execution_count": 120,
     "metadata": {},
     "output_type": "execute_result"
    },
    {
     "data": {
      "image/png": "[encoded data removed]",
      "text/plain": [
       "<Figure size 432x288 with 1 Axes>"
      ]
     },
     "metadata": {
      "needs_background": "light"
     },
     "output_type": "display_data"
    }
   ],
   "source": [
    "trends.plot(title = \"keyword Trend\", subplots= True)"
   ]
  },
  {
   "cell_type": "markdown",
   "id": "262296c3",
   "metadata": {},
   "source": [
    "# \n",
    "In this chart 100 means highest popularity in terms of searches so if graph is near 100 it means it was highly searched at that time"
   ]
  },
  {
   "cell_type": "code",
   "execution_count": 121,
   "id": "a6f71894",
   "metadata": {},
   "outputs": [],
   "source": [
    "#combining trend with day_data \n",
    "day_data.insert(2, 'Trend', trends['Moksh ornaments'], allow_duplicates = True)"
   ]
  },
  {
   "cell_type": "code",
   "execution_count": 122,
   "id": "db8ad3e9",
   "metadata": {
    "scrolled": true
   },
   "outputs": [
    {
     "data": {
      "text/plain": [
       "array([<AxesSubplot:xlabel='Date'>, <AxesSubplot:xlabel='Date'>,\n",
       "       <AxesSubplot:xlabel='Date'>], dtype=object)"
      ]
     },
     "execution_count": 122,
     "metadata": {},
     "output_type": "execute_result"
    },
    {
     "data": {
      "image/png": "[encoded data removed]",
      "text/plain": [
       "<Figure size 720x576 with 3 Axes>"
      ]
     },
     "metadata": {
      "needs_background": "light"
     },
     "output_type": "display_data"
    }
   ],
   "source": [
    "day_data.plot(title = \"Price and Volume and Trend\", subplots= True, figsize= (10,8))"
   ]
  },
  {
   "cell_type": "markdown",
   "id": "b46e9e1e",
   "metadata": {},
   "source": [
    "# Conclusion\n",
    "we find out from the above analysis that It isnt important for price to correlates with volume specially in case of this stock. we found a negative corrrelation between price and volume.\n",
    "This should be considered while trading the stock any anomalies should be ignored.\n",
    "anomalies(if price increasing without volume and vice versa).\n",
    "__Regarding keyword trend we can see that when there is high movement in stock there are high searches regarding it so we can use it even in daily or hourly basis to get an idea about volatility__. "
   ]
  }
 ],
 "metadata": {
  "kernelspec": {
   "display_name": "Python 3",
   "language": "python",
   "name": "python3"
  },
  "language_info": {
   "codemirror_mode": {
    "name": "ipython",
    "version": 3
   },
   "file_extension": ".py",
   "mimetype": "text/x-python",
   "name": "python",
   "nbconvert_exporter": "python",
   "pygments_lexer": "ipython3",
   "version": "3.8.8"
  }
 },
 "nbformat": 4,
 "nbformat_minor": 5
}
